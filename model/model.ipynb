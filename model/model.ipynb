{
 "cells": [
  {
   "cell_type": "code",
   "execution_count": 25,
   "id": "7c83e9e4",
   "metadata": {},
   "outputs": [],
   "source": [
    "# library imports\n",
    "import pandas as pd\n",
    "import seaborn as sns\n",
    "import nltk\n",
    "from nltk.corpus import stopwords\n",
    "from sklearn.feature_extraction.text import CountVectorizer, TfidfTransformer\n",
    "from sklearn.model_selection import train_test_split\n",
    "from sklearn.linear_model import LogisticRegression\n",
    "from sklearn.naive_bayes import MultinomialNB\n",
    "from sklearn.svm import LinearSVC, SVC\n",
    "from sklearn.ensemble import GradientBoostingClassifier, RandomForestClassifier, AdaBoostClassifier, VotingClassifier\n",
    "from sklearn.metrics import accuracy_score, classification_report, confusion_matrix, precision_score, f1_score, recall_score"
   ]
  },
  {
   "cell_type": "code",
   "execution_count": 26,
   "id": "a74b92fc",
   "metadata": {},
   "outputs": [
    {
     "data": {
      "text/html": [
       "<div>\n",
       "<style scoped>\n",
       "    .dataframe tbody tr th:only-of-type {\n",
       "        vertical-align: middle;\n",
       "    }\n",
       "\n",
       "    .dataframe tbody tr th {\n",
       "        vertical-align: top;\n",
       "    }\n",
       "\n",
       "    .dataframe thead th {\n",
       "        text-align: right;\n",
       "    }\n",
       "</style>\n",
       "<table border=\"1\" class=\"dataframe\">\n",
       "  <thead>\n",
       "    <tr style=\"text-align: right;\">\n",
       "      <th></th>\n",
       "      <th>professor_name</th>\n",
       "      <th>school_name</th>\n",
       "      <th>department_name</th>\n",
       "      <th>local_name</th>\n",
       "      <th>state_name</th>\n",
       "      <th>year_since_first_review</th>\n",
       "      <th>star_rating</th>\n",
       "      <th>take_again</th>\n",
       "      <th>diff_index</th>\n",
       "      <th>tag_professor</th>\n",
       "      <th>...</th>\n",
       "      <th>lots_of_homework</th>\n",
       "      <th>accessible_outside_class</th>\n",
       "      <th>lecture_heavy</th>\n",
       "      <th>extra_credit</th>\n",
       "      <th>graded_by_few_things</th>\n",
       "      <th>group_projects</th>\n",
       "      <th>test_heavy</th>\n",
       "      <th>so_many_papers</th>\n",
       "      <th>beware_of_pop_quizzes</th>\n",
       "      <th>IsCourseOnline</th>\n",
       "    </tr>\n",
       "  </thead>\n",
       "  <tbody>\n",
       "    <tr>\n",
       "      <th>0</th>\n",
       "      <td>Leslie  Looney</td>\n",
       "      <td>University Of Illinois at Urbana-Champaign</td>\n",
       "      <td>Astronomy department</td>\n",
       "      <td>Champaign\\xe2\\x80\\x93Urbana</td>\n",
       "      <td>IL</td>\n",
       "      <td>11.0</td>\n",
       "      <td>4.7</td>\n",
       "      <td>NaN</td>\n",
       "      <td>2.0</td>\n",
       "      <td>Hilarious (2)  GROUP PROJECTS (2)  Gives good ...</td>\n",
       "      <td>...</td>\n",
       "      <td>0</td>\n",
       "      <td>0</td>\n",
       "      <td>0</td>\n",
       "      <td>0</td>\n",
       "      <td>0</td>\n",
       "      <td>1</td>\n",
       "      <td>0</td>\n",
       "      <td>0</td>\n",
       "      <td>0</td>\n",
       "      <td>0</td>\n",
       "    </tr>\n",
       "    <tr>\n",
       "      <th>1</th>\n",
       "      <td>Leslie  Looney</td>\n",
       "      <td>University Of Illinois at Urbana-Champaign</td>\n",
       "      <td>Astronomy department</td>\n",
       "      <td>Champaign\\xe2\\x80\\x93Urbana</td>\n",
       "      <td>IL</td>\n",
       "      <td>11.0</td>\n",
       "      <td>4.7</td>\n",
       "      <td>NaN</td>\n",
       "      <td>2.0</td>\n",
       "      <td>Hilarious (2)  GROUP PROJECTS (2)  Gives good ...</td>\n",
       "      <td>...</td>\n",
       "      <td>0</td>\n",
       "      <td>0</td>\n",
       "      <td>0</td>\n",
       "      <td>0</td>\n",
       "      <td>0</td>\n",
       "      <td>1</td>\n",
       "      <td>0</td>\n",
       "      <td>0</td>\n",
       "      <td>0</td>\n",
       "      <td>0</td>\n",
       "    </tr>\n",
       "    <tr>\n",
       "      <th>2</th>\n",
       "      <td>Leslie  Looney</td>\n",
       "      <td>University Of Illinois at Urbana-Champaign</td>\n",
       "      <td>Astronomy department</td>\n",
       "      <td>Champaign\\xe2\\x80\\x93Urbana</td>\n",
       "      <td>IL</td>\n",
       "      <td>11.0</td>\n",
       "      <td>4.7</td>\n",
       "      <td>NaN</td>\n",
       "      <td>2.0</td>\n",
       "      <td>Hilarious (2)  GROUP PROJECTS (2)  Gives good ...</td>\n",
       "      <td>...</td>\n",
       "      <td>0</td>\n",
       "      <td>0</td>\n",
       "      <td>0</td>\n",
       "      <td>0</td>\n",
       "      <td>0</td>\n",
       "      <td>1</td>\n",
       "      <td>0</td>\n",
       "      <td>0</td>\n",
       "      <td>0</td>\n",
       "      <td>0</td>\n",
       "    </tr>\n",
       "    <tr>\n",
       "      <th>3</th>\n",
       "      <td>Leslie  Looney</td>\n",
       "      <td>University Of Illinois at Urbana-Champaign</td>\n",
       "      <td>Astronomy department</td>\n",
       "      <td>Champaign\\xe2\\x80\\x93Urbana</td>\n",
       "      <td>IL</td>\n",
       "      <td>11.0</td>\n",
       "      <td>4.7</td>\n",
       "      <td>NaN</td>\n",
       "      <td>2.0</td>\n",
       "      <td>Hilarious (2)  GROUP PROJECTS (2)  Gives good ...</td>\n",
       "      <td>...</td>\n",
       "      <td>0</td>\n",
       "      <td>0</td>\n",
       "      <td>0</td>\n",
       "      <td>0</td>\n",
       "      <td>0</td>\n",
       "      <td>1</td>\n",
       "      <td>0</td>\n",
       "      <td>0</td>\n",
       "      <td>0</td>\n",
       "      <td>0</td>\n",
       "    </tr>\n",
       "    <tr>\n",
       "      <th>4</th>\n",
       "      <td>Leslie  Looney</td>\n",
       "      <td>University Of Illinois at Urbana-Champaign</td>\n",
       "      <td>Astronomy department</td>\n",
       "      <td>Champaign\\xe2\\x80\\x93Urbana</td>\n",
       "      <td>IL</td>\n",
       "      <td>11.0</td>\n",
       "      <td>4.7</td>\n",
       "      <td>NaN</td>\n",
       "      <td>2.0</td>\n",
       "      <td>Hilarious (2)  GROUP PROJECTS (2)  Gives good ...</td>\n",
       "      <td>...</td>\n",
       "      <td>0</td>\n",
       "      <td>0</td>\n",
       "      <td>0</td>\n",
       "      <td>0</td>\n",
       "      <td>0</td>\n",
       "      <td>1</td>\n",
       "      <td>0</td>\n",
       "      <td>0</td>\n",
       "      <td>0</td>\n",
       "      <td>0</td>\n",
       "    </tr>\n",
       "  </tbody>\n",
       "</table>\n",
       "<p>5 rows × 51 columns</p>\n",
       "</div>"
      ],
      "text/plain": [
       "   professor_name                                 school_name  \\\n",
       "0  Leslie  Looney  University Of Illinois at Urbana-Champaign   \n",
       "1  Leslie  Looney  University Of Illinois at Urbana-Champaign   \n",
       "2  Leslie  Looney  University Of Illinois at Urbana-Champaign   \n",
       "3  Leslie  Looney  University Of Illinois at Urbana-Champaign   \n",
       "4  Leslie  Looney  University Of Illinois at Urbana-Champaign   \n",
       "\n",
       "        department_name                    local_name state_name  \\\n",
       "0  Astronomy department   Champaign\\xe2\\x80\\x93Urbana         IL   \n",
       "1  Astronomy department   Champaign\\xe2\\x80\\x93Urbana         IL   \n",
       "2  Astronomy department   Champaign\\xe2\\x80\\x93Urbana         IL   \n",
       "3  Astronomy department   Champaign\\xe2\\x80\\x93Urbana         IL   \n",
       "4  Astronomy department   Champaign\\xe2\\x80\\x93Urbana         IL   \n",
       "\n",
       "   year_since_first_review  star_rating take_again  diff_index  \\\n",
       "0                     11.0          4.7        NaN         2.0   \n",
       "1                     11.0          4.7        NaN         2.0   \n",
       "2                     11.0          4.7        NaN         2.0   \n",
       "3                     11.0          4.7        NaN         2.0   \n",
       "4                     11.0          4.7        NaN         2.0   \n",
       "\n",
       "                                       tag_professor  ...  lots_of_homework  \\\n",
       "0  Hilarious (2)  GROUP PROJECTS (2)  Gives good ...  ...                 0   \n",
       "1  Hilarious (2)  GROUP PROJECTS (2)  Gives good ...  ...                 0   \n",
       "2  Hilarious (2)  GROUP PROJECTS (2)  Gives good ...  ...                 0   \n",
       "3  Hilarious (2)  GROUP PROJECTS (2)  Gives good ...  ...                 0   \n",
       "4  Hilarious (2)  GROUP PROJECTS (2)  Gives good ...  ...                 0   \n",
       "\n",
       "  accessible_outside_class lecture_heavy extra_credit  graded_by_few_things  \\\n",
       "0                        0             0            0                     0   \n",
       "1                        0             0            0                     0   \n",
       "2                        0             0            0                     0   \n",
       "3                        0             0            0                     0   \n",
       "4                        0             0            0                     0   \n",
       "\n",
       "   group_projects test_heavy so_many_papers beware_of_pop_quizzes  \\\n",
       "0               1          0              0                     0   \n",
       "1               1          0              0                     0   \n",
       "2               1          0              0                     0   \n",
       "3               1          0              0                     0   \n",
       "4               1          0              0                     0   \n",
       "\n",
       "  IsCourseOnline  \n",
       "0              0  \n",
       "1              0  \n",
       "2              0  \n",
       "3              0  \n",
       "4              0  \n",
       "\n",
       "[5 rows x 51 columns]"
      ]
     },
     "execution_count": 26,
     "metadata": {},
     "output_type": "execute_result"
    }
   ],
   "source": [
    "#making of data frame using the csv file\n",
    "df = pd.read_csv(\"review_data.csv\")\n",
    "df.head()"
   ]
  },
  {
   "cell_type": "code",
   "execution_count": 27,
   "id": "41948a0b",
   "metadata": {},
   "outputs": [
    {
     "data": {
      "text/html": [
       "<div>\n",
       "<style scoped>\n",
       "    .dataframe tbody tr th:only-of-type {\n",
       "        vertical-align: middle;\n",
       "    }\n",
       "\n",
       "    .dataframe tbody tr th {\n",
       "        vertical-align: top;\n",
       "    }\n",
       "\n",
       "    .dataframe thead th {\n",
       "        text-align: right;\n",
       "    }\n",
       "</style>\n",
       "<table border=\"1\" class=\"dataframe\">\n",
       "  <thead>\n",
       "    <tr style=\"text-align: right;\">\n",
       "      <th></th>\n",
       "      <th>comments</th>\n",
       "      <th>star_rating</th>\n",
       "    </tr>\n",
       "  </thead>\n",
       "  <tbody>\n",
       "    <tr>\n",
       "      <th>0</th>\n",
       "      <td>This class is hard, but its a two-in-one gen-e...</td>\n",
       "      <td>4.7</td>\n",
       "    </tr>\n",
       "    <tr>\n",
       "      <th>1</th>\n",
       "      <td>Definitely going to choose Prof. Looney\\'s cla...</td>\n",
       "      <td>4.7</td>\n",
       "    </tr>\n",
       "    <tr>\n",
       "      <th>2</th>\n",
       "      <td>I overall enjoyed this class because the assig...</td>\n",
       "      <td>4.7</td>\n",
       "    </tr>\n",
       "    <tr>\n",
       "      <th>3</th>\n",
       "      <td>Yes, it\\'s possible to get an A but you\\'ll de...</td>\n",
       "      <td>4.7</td>\n",
       "    </tr>\n",
       "    <tr>\n",
       "      <th>4</th>\n",
       "      <td>Professor Looney has great knowledge in Astron...</td>\n",
       "      <td>4.7</td>\n",
       "    </tr>\n",
       "  </tbody>\n",
       "</table>\n",
       "</div>"
      ],
      "text/plain": [
       "                                            comments  star_rating\n",
       "0  This class is hard, but its a two-in-one gen-e...          4.7\n",
       "1  Definitely going to choose Prof. Looney\\'s cla...          4.7\n",
       "2  I overall enjoyed this class because the assig...          4.7\n",
       "3  Yes, it\\'s possible to get an A but you\\'ll de...          4.7\n",
       "4  Professor Looney has great knowledge in Astron...          4.7"
      ]
     },
     "execution_count": 27,
     "metadata": {},
     "output_type": "execute_result"
    }
   ],
   "source": [
    "#extracting the relevant data from the dataframe\n",
    "data = df[['comments', 'star_rating']]\n",
    "data.head()"
   ]
  },
  {
   "cell_type": "code",
   "execution_count": 28,
   "id": "da8e001f",
   "metadata": {},
   "outputs": [
    {
     "name": "stderr",
     "output_type": "stream",
     "text": [
      "/var/folders/k8/3fx6qljj0zv9983x2nyls1nh0000gn/T/ipykernel_2508/1711146745.py:4: SettingWithCopyWarning: \n",
      "A value is trying to be set on a copy of a slice from a DataFrame.\n",
      "Try using .loc[row_indexer,col_indexer] = value instead\n",
      "\n",
      "See the caveats in the documentation: https://pandas.pydata.org/pandas-docs/stable/user_guide/indexing.html#returning-a-view-versus-a-copy\n",
      "  data['rating_category'] = pd.cut(data['star_rating'], bins=num_bins, labels=labels, include_lowest=True)\n"
     ]
    },
    {
     "data": {
      "text/html": [
       "<div>\n",
       "<style scoped>\n",
       "    .dataframe tbody tr th:only-of-type {\n",
       "        vertical-align: middle;\n",
       "    }\n",
       "\n",
       "    .dataframe tbody tr th {\n",
       "        vertical-align: top;\n",
       "    }\n",
       "\n",
       "    .dataframe thead th {\n",
       "        text-align: right;\n",
       "    }\n",
       "</style>\n",
       "<table border=\"1\" class=\"dataframe\">\n",
       "  <thead>\n",
       "    <tr style=\"text-align: right;\">\n",
       "      <th></th>\n",
       "      <th>comments</th>\n",
       "      <th>rating_category</th>\n",
       "    </tr>\n",
       "  </thead>\n",
       "  <tbody>\n",
       "    <tr>\n",
       "      <th>0</th>\n",
       "      <td>This class is hard, but its a two-in-one gen-e...</td>\n",
       "      <td>good</td>\n",
       "    </tr>\n",
       "    <tr>\n",
       "      <th>1</th>\n",
       "      <td>Definitely going to choose Prof. Looney\\'s cla...</td>\n",
       "      <td>good</td>\n",
       "    </tr>\n",
       "    <tr>\n",
       "      <th>2</th>\n",
       "      <td>I overall enjoyed this class because the assig...</td>\n",
       "      <td>good</td>\n",
       "    </tr>\n",
       "    <tr>\n",
       "      <th>3</th>\n",
       "      <td>Yes, it\\'s possible to get an A but you\\'ll de...</td>\n",
       "      <td>good</td>\n",
       "    </tr>\n",
       "    <tr>\n",
       "      <th>4</th>\n",
       "      <td>Professor Looney has great knowledge in Astron...</td>\n",
       "      <td>good</td>\n",
       "    </tr>\n",
       "  </tbody>\n",
       "</table>\n",
       "</div>"
      ],
      "text/plain": [
       "                                            comments rating_category\n",
       "0  This class is hard, but its a two-in-one gen-e...            good\n",
       "1  Definitely going to choose Prof. Looney\\'s cla...            good\n",
       "2  I overall enjoyed this class because the assig...            good\n",
       "3  Yes, it\\'s possible to get an A but you\\'ll de...            good\n",
       "4  Professor Looney has great knowledge in Astron...            good"
      ]
     },
     "execution_count": 28,
     "metadata": {},
     "output_type": "execute_result"
    }
   ],
   "source": [
    "#star ratings binnning and assigning lable values\n",
    "labels = ['bad', 'average', 'good']\n",
    "num_bins = 3\n",
    "data['rating_category'] = pd.cut(data['star_rating'], bins=num_bins, labels=labels, include_lowest=True)\n",
    "data = data[['comments', 'rating_category']]\n",
    "data.head()"
   ]
  },
  {
   "cell_type": "code",
   "execution_count": 29,
   "id": "1e890831",
   "metadata": {},
   "outputs": [
    {
     "data": {
      "text/plain": [
       "<AxesSubplot: xlabel='rating_category', ylabel='count'>"
      ]
     },
     "execution_count": 29,
     "metadata": {},
     "output_type": "execute_result"
    },
    {
     "data": {
      "image/png": "[encoded data removed]",
      "text/plain": [
       "<Figure size 432x288 with 1 Axes>"
      ]
     },
     "metadata": {},
     "output_type": "display_data"
    }
   ],
   "source": [
    "sns.set_theme(style=\"whitegrid\")\n",
    "sns.countplot(x=data[\"rating_category\"])"
   ]
  },
  {
   "cell_type": "code",
   "execution_count": 30,
   "id": "3a0b7d46",
   "metadata": {},
   "outputs": [],
   "source": [
    "#remove functuatuation marks from the comments data\n",
    "data['comments'] = data['comments'].str.replace(r'[^\\w\\s]', '', regex=True)\n"
   ]
  },
  {
   "cell_type": "code",
   "execution_count": 31,
   "id": "ae77ba91",
   "metadata": {},
   "outputs": [],
   "source": [
    "data['comments'] = data['comments'].astype(str)['comments'] = data['comments'].str.lower()"
   ]
  },
  {
   "cell_type": "code",
   "execution_count": 32,
   "id": "2794e83d",
   "metadata": {},
   "outputs": [
    {
     "name": "stderr",
     "output_type": "stream",
     "text": [
      "[nltk_data] Downloading package stopwords to\n",
      "[nltk_data]     /Users/madhushanihewagama/nltk_data...\n",
      "[nltk_data]   Package stopwords is already up-to-date!\n"
     ]
    }
   ],
   "source": [
    "nltk.download('stopwords')\n",
    "stop_words = set(stopwords.words('english'))"
   ]
  },
  {
   "cell_type": "code",
   "execution_count": 33,
   "id": "5885532f",
   "metadata": {},
   "outputs": [],
   "source": [
    "data['comments'] = data['comments'].astype(str).apply(lambda x: ' '.join(word for word in x.split() if word.lower() not in stop_words))"
   ]
  },
  {
   "cell_type": "code",
   "execution_count": 34,
   "id": "b88da9bf",
   "metadata": {
    "scrolled": true
   },
   "outputs": [
    {
     "data": {
      "text/html": [
       "<div>\n",
       "<style scoped>\n",
       "    .dataframe tbody tr th:only-of-type {\n",
       "        vertical-align: middle;\n",
       "    }\n",
       "\n",
       "    .dataframe tbody tr th {\n",
       "        vertical-align: top;\n",
       "    }\n",
       "\n",
       "    .dataframe thead th {\n",
       "        text-align: right;\n",
       "    }\n",
       "</style>\n",
       "<table border=\"1\" class=\"dataframe\">\n",
       "  <thead>\n",
       "    <tr style=\"text-align: right;\">\n",
       "      <th></th>\n",
       "      <th>comments</th>\n",
       "      <th>rating_category</th>\n",
       "    </tr>\n",
       "  </thead>\n",
       "  <tbody>\n",
       "    <tr>\n",
       "      <th>0</th>\n",
       "      <td>class hard twoinone gened knockout content sti...</td>\n",
       "      <td>good</td>\n",
       "    </tr>\n",
       "    <tr>\n",
       "      <th>1</th>\n",
       "      <td>definitely going choose prof looneys class int...</td>\n",
       "      <td>good</td>\n",
       "    </tr>\n",
       "    <tr>\n",
       "      <th>2</th>\n",
       "      <td>overall enjoyed class assignments straightforw...</td>\n",
       "      <td>good</td>\n",
       "    </tr>\n",
       "    <tr>\n",
       "      <th>3</th>\n",
       "      <td>yes possible get youll definitely work content...</td>\n",
       "      <td>good</td>\n",
       "    </tr>\n",
       "    <tr>\n",
       "      <th>4</th>\n",
       "      <td>professor looney great knowledge astronomy exp...</td>\n",
       "      <td>good</td>\n",
       "    </tr>\n",
       "  </tbody>\n",
       "</table>\n",
       "</div>"
      ],
      "text/plain": [
       "                                            comments rating_category\n",
       "0  class hard twoinone gened knockout content sti...            good\n",
       "1  definitely going choose prof looneys class int...            good\n",
       "2  overall enjoyed class assignments straightforw...            good\n",
       "3  yes possible get youll definitely work content...            good\n",
       "4  professor looney great knowledge astronomy exp...            good"
      ]
     },
     "execution_count": 34,
     "metadata": {},
     "output_type": "execute_result"
    }
   ],
   "source": [
    "data.head()"
   ]
  },
  {
   "cell_type": "code",
   "execution_count": 35,
   "id": "a76c1dab",
   "metadata": {},
   "outputs": [
    {
     "name": "stdout",
     "output_type": "stream",
     "text": [
      "(15000, 165127) (5000, 165127) (15000,) (5000,)\n"
     ]
    }
   ],
   "source": [
    "x_train, x_test, y_train, y_test = train_test_split(data[\"comments\"],data[\"rating_category\"], test_size = 0.25, random_state = 42)    \n",
    "count_vect = CountVectorizer(ngram_range=(1, 2))        \n",
    "transformer = TfidfTransformer(norm='l2',sublinear_tf=True)\n",
    "x_train_counts = count_vect.fit_transform(x_train)\n",
    "x_train_tfidf = transformer.fit_transform(x_train_counts)\n",
    "\n",
    "x_test_counts = count_vect.transform(x_test)\n",
    "x_test_tfidf = transformer.transform(x_test_counts)\n",
    "\n",
    "print (x_train_tfidf.shape,x_test_tfidf.shape, y_train.shape, y_test.shape)"
   ]
  },
  {
   "cell_type": "markdown",
   "id": "7d64c9b7",
   "metadata": {},
   "source": [
    "# Save CountVectorizer model as pickle file"
   ]
  },
  {
   "cell_type": "code",
   "execution_count": 51,
   "id": "7b4a8ae8",
   "metadata": {},
   "outputs": [],
   "source": [
    "import pickle\n",
    "with open('counterVectorizer_pkl', 'wb') as files:\n",
    "    pickle.dump(count_vect, files)"
   ]
  },
  {
   "cell_type": "code",
   "execution_count": 36,
   "id": "edb8f813",
   "metadata": {},
   "outputs": [
    {
     "name": "stdout",
     "output_type": "stream",
     "text": [
      "Accuracy: 0.6298\n",
      "              precision    recall  f1-score   support\n",
      "\n",
      "     average       0.57      0.48      0.52      1925\n",
      "         bad       0.48      0.07      0.12       392\n",
      "        good       0.66      0.82      0.73      2683\n",
      "\n",
      "    accuracy                           0.63      5000\n",
      "   macro avg       0.57      0.46      0.46      5000\n",
      "weighted avg       0.61      0.63      0.60      5000\n",
      "\n"
     ]
    }
   ],
   "source": [
    "lr = LogisticRegression(C = 2, max_iter = 1000, n_jobs=-1)\n",
    "lr.fit(x_train_tfidf, y_train)\n",
    "y_pred1 = lr.predict(x_test_tfidf)\n",
    "print(\"Accuracy: \"+str(accuracy_score(y_test,y_pred1)))\n",
    "print(classification_report(y_test, y_pred1))"
   ]
  },
  {
   "cell_type": "code",
   "execution_count": 37,
   "id": "1574c24f",
   "metadata": {},
   "outputs": [
    {
     "name": "stdout",
     "output_type": "stream",
     "text": [
      "Accuracy: 0.5586\n",
      "              precision    recall  f1-score   support\n",
      "\n",
      "     average       0.68      0.07      0.12      1925\n",
      "         bad       0.00      0.00      0.00       392\n",
      "        good       0.55      0.99      0.71      2683\n",
      "\n",
      "    accuracy                           0.56      5000\n",
      "   macro avg       0.41      0.35      0.28      5000\n",
      "weighted avg       0.56      0.56      0.43      5000\n",
      "\n"
     ]
    },
    {
     "name": "stderr",
     "output_type": "stream",
     "text": [
      "/usr/local/lib/python3.9/site-packages/sklearn/metrics/_classification.py:1327: UndefinedMetricWarning: Precision and F-score are ill-defined and being set to 0.0 in labels with no predicted samples. Use `zero_division` parameter to control this behavior.\n",
      "  _warn_prf(average, modifier, msg_start, len(result))\n",
      "/usr/local/lib/python3.9/site-packages/sklearn/metrics/_classification.py:1327: UndefinedMetricWarning: Precision and F-score are ill-defined and being set to 0.0 in labels with no predicted samples. Use `zero_division` parameter to control this behavior.\n",
      "  _warn_prf(average, modifier, msg_start, len(result))\n",
      "/usr/local/lib/python3.9/site-packages/sklearn/metrics/_classification.py:1327: UndefinedMetricWarning: Precision and F-score are ill-defined and being set to 0.0 in labels with no predicted samples. Use `zero_division` parameter to control this behavior.\n",
      "  _warn_prf(average, modifier, msg_start, len(result))\n"
     ]
    }
   ],
   "source": [
    "mnb = MultinomialNB()\n",
    "mnb.fit(x_train_tfidf, y_train)\n",
    "y_pred3 = mnb.predict(x_test_tfidf)\n",
    "print(\"Accuracy: \"+str(accuracy_score(y_test,y_pred3)))\n",
    "print(classification_report(y_test, y_pred3))"
   ]
  },
  {
   "cell_type": "code",
   "execution_count": 43,
   "id": "5c028ae5",
   "metadata": {},
   "outputs": [
    {
     "name": "stdout",
     "output_type": "stream",
     "text": [
      "Accuracy: 0.6258\n",
      "              precision    recall  f1-score   support\n",
      "\n",
      "     average       0.57      0.49      0.52      1925\n",
      "         bad       0.49      0.11      0.18       392\n",
      "        good       0.66      0.80      0.72      2683\n",
      "\n",
      "    accuracy                           0.63      5000\n",
      "   macro avg       0.57      0.47      0.48      5000\n",
      "weighted avg       0.61      0.63      0.60      5000\n",
      "\n"
     ]
    }
   ],
   "source": [
    "model = LinearSVC()\n",
    "model.fit(x_train_tfidf, y_train)\n",
    "y_pred = model.predict(x_test_tfidf)\n",
    "print(\"Accuracy: \"+str(accuracy_score(y_test,y_pred)))\n",
    "print(classification_report(y_test, y_pred))"
   ]
  },
  {
   "cell_type": "code",
   "execution_count": 44,
   "id": "1f4b1233",
   "metadata": {},
   "outputs": [],
   "source": [
    "# mnb = MultinomialNB()\n",
    "# rfc= RandomForestClassifier(n_estimators=1000, max_depth=12, random_state=42)\n",
    "# lr = LogisticRegression(C = 2, max_iter = 1000, n_jobs=-1)\n",
    "# svc = SVC(probability=True)\n",
    "# ec=VotingClassifier(estimators=[('Multinominal NB', mnb), ('Random Forest', rfc),('Logistic Regression',lr),('Support Vector Machine',svc)], voting='soft', weights=[1,2,3,4]) \n",
    "# ec.fit(x_train_tfidf,y_train)                                                 \n",
    "# y_pred6 = ec.predict(x_test_tfidf)\n",
    "# print(accuracy_score(y_test, y_pred6))\n",
    "# print(classification_report(y_test, y_pred6))"
   ]
  },
  {
   "cell_type": "code",
   "execution_count": 45,
   "id": "033b2f17",
   "metadata": {},
   "outputs": [],
   "source": [
    "# mc = count_vect.transform([\"Good job sir\"])\n",
    "# m = transformer.transform(mc)\n",
    "# y_pred = ec.predict(m)\n",
    "# print(y_pred)"
   ]
  },
  {
   "cell_type": "code",
   "execution_count": 46,
   "id": "f2b1a526",
   "metadata": {},
   "outputs": [],
   "source": [
    "# mc = count_vect.transform([\"worst teacher\"])\n",
    "# m = transformer.transform(mc)\n",
    "# y_pred = ec.predict(m)\n",
    "# print(y_pred)"
   ]
  },
  {
   "cell_type": "code",
   "execution_count": 47,
   "id": "d0eed996",
   "metadata": {},
   "outputs": [],
   "source": [
    "# mc = count_vect.transform([\"hard to get used to... but knows his stuff and will help you more than any other skiddie art prof\"])\n",
    "# m = transformer.transform(mc)\n",
    "# y_pred = ec.predict(m)\n",
    "# print(y_pred)"
   ]
  },
  {
   "cell_type": "markdown",
   "id": "9fb742a7",
   "metadata": {},
   "source": [
    "# Save modle as pickle file"
   ]
  },
  {
   "cell_type": "code",
   "execution_count": 48,
   "id": "aadcf17f",
   "metadata": {},
   "outputs": [],
   "source": [
    "import pickle\n",
    "with open('model_pkl', 'wb') as files:\n",
    "    pickle.dump(model, files)"
   ]
  },
  {
   "cell_type": "markdown",
   "id": "3d2078f7",
   "metadata": {},
   "source": [
    "# Load model from pickle file to predict"
   ]
  },
  {
   "cell_type": "code",
   "execution_count": 49,
   "id": "db724a51",
   "metadata": {},
   "outputs": [],
   "source": [
    "# load saved model\n",
    "with open('model_pkl' , 'rb') as f:\n",
    "    model = pickle.load(f)"
   ]
  },
  {
   "cell_type": "code",
   "execution_count": 50,
   "id": "cddddfa6",
   "metadata": {},
   "outputs": [
    {
     "name": "stdout",
     "output_type": "stream",
     "text": [
      "['average']\n"
     ]
    }
   ],
   "source": [
    "mc = count_vect.transform([\"hard to get used to... but knows his stuff and will help you more than any other skiddie art prof\"])\n",
    "m = transformer.transform(mc)\n",
    "y_pred = model.predict(m)\n",
    "print(y_pred)"
   ]
  },
  {
   "cell_type": "code",
   "execution_count": null,
   "id": "5f7e28fa",
   "metadata": {},
   "outputs": [],
   "source": []
  }
 ],
 "metadata": {
  "kernelspec": {
   "display_name": "Python 3 (ipykernel)",
   "language": "python",
   "name": "python3"
  },
  "language_info": {
   "codemirror_mode": {
    "name": "ipython",
    "version": 3
   },
   "file_extension": ".py",
   "mimetype": "text/x-python",
   "name": "python",
   "nbconvert_exporter": "python",
   "pygments_lexer": "ipython3",
   "version": "3.9.16"
  }
 },
 "nbformat": 4,
 "nbformat_minor": 5
}
